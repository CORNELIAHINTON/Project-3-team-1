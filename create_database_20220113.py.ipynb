{
 "cells": [
  {
   "cell_type": "code",
   "execution_count": 1,
   "id": "7315bebf",
   "metadata": {
    "scrolled": true
   },
   "outputs": [],
   "source": [
    "#------------------------------------------------------------------------------------------------------------------------------\n",
    "# import dependencies\n",
    "#------------------------------------------------------------------------------------------------------------------------------\n",
    "import re\n",
    "import json\n",
    "import sys, os\n",
    "\n",
    "import requests\n",
    "import warnings\n",
    "import psycopg2\n",
    "\n",
    "from pprint import pprint\n",
    "from copy import deepcopy\n",
    "\n",
    "from country_list import countries_for_language"
   ]
  },
  {
   "cell_type": "code",
   "execution_count": 2,
   "id": "52288c13",
   "metadata": {},
   "outputs": [],
   "source": [
    "#------------------------------------------------------------------------------------------------------------------------------\n",
    "# generate artist list\n",
    "#------------------------------------------------------------------------------------------------------------------------------\n",
    "\"\"\"get artists list csv\"\"\"\n",
    "def get_artists(countries):  \n",
    "    dicy = {}\n",
    "    limit = 1000    # SPECIFY\n",
    "    urlraw = r'https://ws.audioscrobbler.com/2.0/?method=geo.gettopartists&country={}&api_key=70894b101e887cf7fd9443bd5067f675&format=json&limit={}'\n",
    "    \n",
    "    for cty in countries.values():\n",
    "        r = requests.get(urlraw.format(cty, limit))\n",
    "        tmp = r.json()\n",
    "#         pprint(tmp)\n",
    "\n",
    "        try:\n",
    "            for i in range(len(tmp['topartists']['artist'])):\n",
    "                artistname = tmp['topartists']['artist'][i]['name']\n",
    "\n",
    "                dicy[artistname] = 1\n",
    "        except:\n",
    "            print(f'top artists for {cty} CANNOT be found')\n",
    "            pass\n",
    "        \n",
    "    return dicy\n",
    "\n",
    "\n",
    "def create_glbartist():\n",
    "    countriesDict = dict(countries_for_language('en'))\n",
    "#     print(countriesDict)\n",
    "    dicy = get_artists(countriesDict)\n",
    "    # print(len(dicy), dicy)\n",
    "\n",
    "    with open('glbartists.csv', 'w', encoding='utf-8') as fw:\n",
    "        print('artists', file=fw)\n",
    "\n",
    "        for artistname in dicy:\n",
    "            print(artistname, file=fw)\n",
    "            print(f'created... {artistname}')"
   ]
  },
  {
   "cell_type": "code",
   "execution_count": 3,
   "id": "583ae7a0",
   "metadata": {},
   "outputs": [],
   "source": [
    "# create_glbartist()"
   ]
  },
  {
   "cell_type": "code",
   "execution_count": 4,
   "id": "affc1558",
   "metadata": {},
   "outputs": [],
   "source": [
    "#------------------------------------------------------------------------------------------------------------------------------\n",
    "# populate artist details\n",
    "#------------------------------------------------------------------------------------------------------------------------------\n",
    "\"\"\"get artist info\"\"\"\n",
    "def get_artist_info(artist):\n",
    "    dicy = {}\n",
    "    pot = {}\n",
    "\n",
    "    urlraw = r'https://ws.audioscrobbler.com/2.0/?method=artist.getinfo&artist={}&api_key=70894b101e887cf7fd9443bd5067f675&format=json'\n",
    "\n",
    "    try:\n",
    "        r = requests.get(urlraw.format(artist))\n",
    "        tmp = r.json()\n",
    "#         pprint(tmp)\n",
    "\n",
    "        artistgenre = tmp['artist']['tags']['tag']\n",
    "#         print(artist, artistgenre)\n",
    "    except:\n",
    "        print(f\"\"\"your artist ({artist}) is WRONG\"\"\")\n",
    "        pass\n",
    "    else:\n",
    "        for i in range(len(artistgenre)):\n",
    "            if artistgenre[i]['name'] != artist:\n",
    "                addartist = artistgenre[i]['name'].replace('-', ' ').title()\n",
    "\n",
    "                pot[addartist] = 1\n",
    "\n",
    "        genre = ', '.join(pot)\n",
    "\n",
    "        playcount = tmp['artist']['stats']['playcount']\n",
    "\n",
    "        listeners = tmp['artist']['stats']['listeners']\n",
    "\n",
    "        try:\n",
    "            playcountperlistener = str(int(int(playcount)/int(listeners)))\n",
    "        except:\n",
    "            playcountperlistener = ''\n",
    "\n",
    "        artistinfo = re.sub(rf'(?= <a).*?(?=$)', '', tmp['artist']['bio']['summary']).replace('\\n', ' ').strip()\n",
    "        artistinfo = artistinfo.replace('|', ',').replace('\"', '').replace(\"'\", \"\")\n",
    "        \n",
    "        artistlink = tmp['artist']['bio']['links']['link']['href']\n",
    "\n",
    "    #     print(genre)\n",
    "    #     print(playcount)\n",
    "    #     print(listeners)\n",
    "    #     print(artistinfo)\n",
    "    #     print(artistlink)\n",
    "\n",
    "        return f'{genre}|{playcount}|{listeners}|{playcountperlistener}|{artistinfo}|{artistlink}'\n",
    "\n",
    "\n",
    "def create_glb_artistbio():\n",
    "    fw = open('glbartistsbio.csv', 'w', encoding='utf-8')\n",
    "\n",
    "    with open('glbartists.csv', 'r', encoding='utf-8') as fr:\n",
    "        print('artistname|genre|playcount|listeners|playcountperlistener|artistinfo|artistlink', file=fw)\n",
    "\n",
    "        next(fr)\n",
    "\n",
    "        for artistname in fr:\n",
    "            artistname = artistname.strip()\n",
    "    #         print(artistname)\n",
    "\n",
    "            info = get_artist_info(artistname)\n",
    "        \n",
    "            artistname = artistname.replace('|', ',').replace('\"', '').replace(\"'\", \"\")\n",
    "        \n",
    "            if info != None:\n",
    "                artistbio = f'{artistname}|{info}'\n",
    "                print(artistbio, file=fw)\n",
    "\n",
    "                print(f'completed... {artistname}')\n",
    "\n",
    "    fw.close()"
   ]
  },
  {
   "cell_type": "code",
   "execution_count": 5,
   "id": "b60602db",
   "metadata": {
    "scrolled": true
   },
   "outputs": [],
   "source": [
    "# create_glb_artistbio()"
   ]
  },
  {
   "cell_type": "code",
   "execution_count": 6,
   "id": "57d1d005",
   "metadata": {},
   "outputs": [],
   "source": [
    "# get_artist_info('#1 Dads')"
   ]
  },
  {
   "cell_type": "code",
   "execution_count": 7,
   "id": "2542826d",
   "metadata": {},
   "outputs": [],
   "source": [
    "#------------------------------------------------------------------------------------------------------------------------------\n",
    "# high lv fns\n",
    "#------------------------------------------------------------------------------------------------------------------------------\n",
    "def search_sim_artist(artist):\n",
    "    params = {\n",
    "        'host': 'localhost',\n",
    "        'database': 'artistsbio_db',\n",
    "        'user': 'postgres',\n",
    "        'password': 'Cw18745.,'\n",
    "    }\n",
    "    conn = psycopg2.connect(**params)\n",
    "\n",
    "    with conn:\n",
    "#         sql = f\"select artistname from public.glbartistbio where artistname ~* '{artist}' limit 5;\"\n",
    "        sql = f\"select artistname from glbartistbio where artistname ~* '{artist}' and artistname !~* 'feat' \\\n",
    "            order by playcount::int desc limit 5;\"\n",
    "        \n",
    "        cur = conn.cursor()\n",
    "        cur.execute(sql)\n",
    "\n",
    "    print('ARE YOU SEARCHING FOR?')\n",
    "    for r in cur:\n",
    "        artistname = r[0]\n",
    "        print(r[0])\n",
    "\n",
    "    cur.close()\n",
    "\n",
    "    conn.commit()\n",
    "    conn.close()\n",
    "    \n",
    "    \n",
    "def search_artist_bio(artist):\n",
    "    params = {\n",
    "    'host': 'localhost',\n",
    "    'database': 'artistsbio_db',\n",
    "    'user': 'postgres',\n",
    "    'password': 'Cw18745.,'\n",
    "    }\n",
    "    conn = psycopg2.connect(**params)\n",
    "\n",
    "    with conn:\n",
    "#         sql = f\"select artistname from public.glbartistbio where artistname ~* '{artist}' limit 5;\"\n",
    "        sql = f\"select * from glbartistbio where artistname ~* '{artist}' and artistname !~* 'feat' \\\n",
    "            order by playcount::int desc limit 5;\"\n",
    "        \n",
    "        cur = conn.cursor()\n",
    "        cur.execute(sql)\n",
    "\n",
    "        rec = [r for r in cur]\n",
    "        \n",
    "        cur.close()\n",
    "        \n",
    "        for i in range(len(rec)):\n",
    "            print('-' * 100)\n",
    "            print(f\"\"\"\\\n",
    "INTRO TO YOUR ARTIST - {rec[i][1]}:\n",
    "Genres: {rec[i][2]}\n",
    "Playcounts: {int(rec[i][3]):,}\n",
    "Listeners: {int(rec[i][4]):,}\n",
    "Playcounts per listener: {rec[i][5]}\n",
    "Bio: {rec[i][6]}\n",
    "{rec[i][7]}\"\"\")\n",
    "            \n",
    "    print('-' * 100)\n",
    "    \n",
    "    conn.commit()\n",
    "    conn.close()"
   ]
  },
  {
   "cell_type": "code",
   "execution_count": 8,
   "id": "9d9f60e6",
   "metadata": {
    "scrolled": true
   },
   "outputs": [
    {
     "name": "stdout",
     "output_type": "stream",
     "text": [
      "ARE YOU SEARCHING FOR?\n",
      "Justin Bieber\n"
     ]
    }
   ],
   "source": [
    "search_sim_artist('justin')"
   ]
  },
  {
   "cell_type": "code",
   "execution_count": 9,
   "id": "24b76878",
   "metadata": {},
   "outputs": [
    {
     "name": "stdout",
     "output_type": "stream",
     "text": [
      "----------------------------------------------------------------------------------------------------\n",
      "INTRO TO YOUR ARTIST - Justin Bieber:\n",
      "Genres: Pop, Black Metal, Justin Bieber, Rnb, Hip Hop\n",
      "Playcounts: 103,652,355\n",
      "Listeners: 2,418,961\n",
      "Playcounts per listener: 42\n",
      "Bio: Justin Drew Bieber (born March 1, 1994 in London, Ontario, Canada) is a Canadian pop musician, actor, and singer-songwriter. Bieber was discovered in 2008 by American talent manager Scooter Braun, who came across Biebers videos on YouTube and later became his manager. Braun arranged for him to meet with entertainer Usher Raymond in Atlanta, Georgia. Bieber was signed to Raymond Braun Media Group (RBMG), and then to an Island Records recording contract offered by record executive L.A. Reid.\n",
      "https://last.fm/music/Justin+Bieber/+wiki\n",
      "----------------------------------------------------------------------------------------------------\n"
     ]
    }
   ],
   "source": [
    "search_artist_bio('justin')"
   ]
  }
 ],
 "metadata": {
  "kernelspec": {
   "display_name": "Python 3",
   "language": "python",
   "name": "python3"
  },
  "language_info": {
   "codemirror_mode": {
    "name": "ipython",
    "version": 3
   },
   "file_extension": ".py",
   "mimetype": "text/x-python",
   "name": "python",
   "nbconvert_exporter": "python",
   "pygments_lexer": "ipython3",
   "version": "3.8.8"
  }
 },
 "nbformat": 4,
 "nbformat_minor": 5
}
