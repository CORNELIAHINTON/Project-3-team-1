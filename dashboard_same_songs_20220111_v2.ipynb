{
 "cells": [
  {
   "cell_type": "code",
   "execution_count": 1,
   "id": "506c82c2",
   "metadata": {},
   "outputs": [],
   "source": [
    "import json\n",
    "import sys, re\n",
    "\n",
    "import requests\n",
    "\n",
    "from copy import deepcopy\n",
    "from pprint import pprint"
   ]
  },
  {
   "cell_type": "code",
   "execution_count": 2,
   "id": "08154fee",
   "metadata": {},
   "outputs": [
    {
     "name": "stdout",
     "output_type": "stream",
     "text": [
      "\n"
     ]
    }
   ],
   "source": [
    "\"\"\"let user pick any number of artists and respective songs\"\"\"\n",
    "# artist0 = \"nickelback\"\n",
    "# artist1 = \"drake\"\n",
    "# artist0 = \"justin bieber\"\n",
    "# artist1 = \"nickelback\"\n",
    "artist0 = 'the chainsmokers'\n",
    "artist1 = 'taylor swift'\n",
    "# artist0 = input('pick artist? ').title()\n",
    "# artist1 = input('pick artist? ').title()\n",
    "\n",
    "print()\n",
    "# song0 = \"far away\"\n",
    "# song1 = \"god's plan\"\n",
    "# song0 = \"baby\"\n",
    "# song1 = \"far away\"\n",
    "song0 = 'something just like this'\n",
    "song1 = 'look what you made me do'\n",
    "# song0 = input(f'pick song for {artist0}? ')\n",
    "# song1 = input(f'pick song for {artist1}? ')"
   ]
  },
  {
   "cell_type": "code",
   "execution_count": 3,
   "id": "8d167734",
   "metadata": {
    "scrolled": true
   },
   "outputs": [],
   "source": [
    "\"\"\"someone's function generating visuals\"\"\"  \n",
    "def getsimsongs(artist, song):    # gives dict of sim songs\n",
    "    try:\n",
    "        urlraw = f'https://ws.audioscrobbler.com/2.0/?method=track.getsimilar&artist={artist}&track={song}&api_key=70894b101e887cf7fd9443bd5067f675&format=json'\n",
    "\n",
    "        dicy = {}\n",
    "\n",
    "        r = requests.get(urlraw)\n",
    "        tmp = r.json()\n",
    "\n",
    "        for i in range(len(tmp['similartracks']['track'])):\n",
    "            songname = tmp['similartracks']['track'][i]['name']\n",
    "            artistname = tmp['similartracks']['track'][i]['artist']['name']\n",
    "\n",
    "            dicy[f'{artistname}|{songname}'] = 1\n",
    "    except:\n",
    "        print(f\"\"\"your artist ({artist.title()}) or song ({song.title()}) is WRONG\"\"\")\n",
    "    else:\n",
    "        return dicy\n",
    "\n",
    "\n",
    "def match(dicy0, dicy1):   # gives matching dict of two dicts\n",
    "    pot = {}\n",
    "    \n",
    "    for k0 in dicy0:\n",
    "        for k1 in dicy1:\n",
    "            if k0 == k1:\n",
    "                pot[k1] = 1\n",
    "\n",
    "    return pot\n",
    "\n",
    "\n",
    "def addmore(dicy, n):    # adds new sim songs by specified pair\n",
    "    pair = list(dicy)[n]\n",
    "#     print(pair)\n",
    "    \n",
    "    artistpair = pair.split('|')[0]\n",
    "    songpair = pair.split('|')[1]\n",
    "    \n",
    "    try:\n",
    "        dicypair = getsimsongs(artistpair, songpair)\n",
    "#         print(dicypair)\n",
    "\n",
    "        dicynew = {**dicy, **dicypair}\n",
    "    except:\n",
    "        dicynew = dicy\n",
    "        \n",
    "#         print(f'FAILED searching... {pair}')\n",
    "    \n",
    "    return dicynew, pair\n",
    "\n",
    "\n",
    "def iteration(dicy0, dicy1, hist0={}, hist1={}):  \n",
    "    ##########################################################\n",
    "    # check if sets inital match\n",
    "    ##########################################################\n",
    "#     print('data0', len(dicy0))\n",
    "#     print('data1', len(dicy1))\n",
    "\n",
    "    res = match(dicy0, dicy1)\n",
    "\n",
    "    if len(res) >= 1:\n",
    "#         print(len(res), res)\n",
    "#         print(f'stop after add 0 pair(s)')\n",
    "\n",
    "        print(f'DISCOVERED SONG(S) PLAYLIST: {len(res)}')\n",
    "\n",
    "        for k in res:\n",
    "            print(f\"{k.split('|')[0]} - {k.split('|')[1]}\")\n",
    "    ##########################################################\n",
    "    # expand song by song until match\n",
    "    ##########################################################\n",
    "    else:\n",
    "        for i in range(max(len(dicy0), len(dicy1))):\n",
    "            ind0 = 'n'\n",
    "            ind1 = 'n'\n",
    "\n",
    "            try:\n",
    "                test0 = list(dicy0)[i]\n",
    "            except:\n",
    "                test0 = ''\n",
    "\n",
    "            try:\n",
    "                test1 = list(dicy1)[i]\n",
    "            except:\n",
    "                test1 = ''\n",
    "\n",
    "            if test0.strip() and test0 not in hist0:\n",
    "                dicy0, pair0 = addmore(dicy0, i)\n",
    "\n",
    "#                 print('dicy0',len(dicy0))\n",
    "\n",
    "                hist0[pair0] = 1\n",
    "\n",
    "                ind0 = 'y'\n",
    "\n",
    "            if test1.strip() and test1 not in hist1:\n",
    "                dicy1, pair1 = addmore(dicy1, i)\n",
    "\n",
    "#                 print('dicy1', len(dicy1))\n",
    "\n",
    "                hist1[pair1] = 1\n",
    "\n",
    "                ind1 = 'y'\n",
    "\n",
    "            if not (ind0 == 'n' and ind1 == 'n'):\n",
    "                res = match(dicy0, dicy1)\n",
    "\n",
    "                if len(res) >= 1:\n",
    "#                     print(len(res), res)\n",
    "#                     print(f'stop after add {i + 1} pair(s)')\n",
    "\n",
    "                    print(f'DISCOVERED SONG(S) PLAYLIST: {len(res)}')\n",
    "\n",
    "\n",
    "                    for k in res:\n",
    "                        print(f\"{k.split('|')[0]} - {k.split('|')[1]}\")\n",
    "\n",
    "                    break\n",
    "\n",
    "    return dicy0, dicy1, hist0, hist1"
   ]
  },
  {
   "cell_type": "code",
   "execution_count": 4,
   "id": "0b1b6691",
   "metadata": {
    "scrolled": true
   },
   "outputs": [],
   "source": [
    "def main(artist0, song0, artist1, song1):\n",
    "    d0 = getsimsongs(artist0, song0)\n",
    "    d1 = getsimsongs(artist1, song1)\n",
    "\n",
    "    # first iteration pair by pair\n",
    "    try:\n",
    "        d00, d11, h00, h11 = iteration(d0, d1)\n",
    "    except:\n",
    "        pass"
   ]
  },
  {
   "cell_type": "code",
   "execution_count": 5,
   "id": "91e015bb",
   "metadata": {},
   "outputs": [
    {
     "name": "stdout",
     "output_type": "stream",
     "text": [
      "DISCOVERED SONG(S) PLAYLIST: 7\n",
      "Dua Lipa - New Rules\n",
      "Dua Lipa - IDGAF\n",
      "Ellie Goulding - Burn\n",
      "Zara Larsson - Ain't My Fault\n",
      "Ke$ha - Die Young\n",
      "Ke$ha - TiK ToK\n",
      "Troye Sivan - My My My!\n"
     ]
    }
   ],
   "source": [
    "main(artist0, song0, artist1, song1)"
   ]
  },
  {
   "cell_type": "code",
   "execution_count": 6,
   "id": "092ea459",
   "metadata": {
    "scrolled": true
   },
   "outputs": [],
   "source": [
    "# print('data0', len(d00))\n",
    "# print('data1', len(d11))"
   ]
  },
  {
   "cell_type": "code",
   "execution_count": 7,
   "id": "f97934a7",
   "metadata": {
    "scrolled": true
   },
   "outputs": [],
   "source": [
    "# # second iteration pair by pair\n",
    "# d000, d111, h000, h111 = iteration(d00, d11, h00, h11)"
   ]
  },
  {
   "cell_type": "code",
   "execution_count": 8,
   "id": "25d0c13f",
   "metadata": {},
   "outputs": [],
   "source": [
    "# print('data0', len(d000))\n",
    "# print('data1', len(d111))"
   ]
  },
  {
   "cell_type": "code",
   "execution_count": 9,
   "id": "33773221",
   "metadata": {
    "scrolled": true
   },
   "outputs": [],
   "source": [
    "# # third iteration pair by pair\n",
    "# d0000, d1111, h0000, h1111 = iteration(d000, d111, h000, h111)"
   ]
  },
  {
   "cell_type": "code",
   "execution_count": 10,
   "id": "0aa4c3d5",
   "metadata": {},
   "outputs": [],
   "source": [
    "# print('data0', len(d0000))\n",
    "# print('data1', len(d1111))"
   ]
  }
 ],
 "metadata": {
  "kernelspec": {
   "display_name": "Python 3",
   "language": "python",
   "name": "python3"
  },
  "language_info": {
   "codemirror_mode": {
    "name": "ipython",
    "version": 3
   },
   "file_extension": ".py",
   "mimetype": "text/x-python",
   "name": "python",
   "nbconvert_exporter": "python",
   "pygments_lexer": "ipython3",
   "version": "3.8.8"
  }
 },
 "nbformat": 4,
 "nbformat_minor": 5
}
